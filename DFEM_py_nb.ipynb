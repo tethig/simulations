{
 "cells": [
  {
   "cell_type": "markdown",
   "metadata": {},
   "source": [
    "# Evolution at High Mutation Rates"
   ]
  },
  {
   "cell_type": "markdown",
   "metadata": {},
   "source": [
    "**Importing Modules**"
   ]
  },
  {
   "cell_type": "code",
   "execution_count": 1,
   "metadata": {
    "collapsed": false
   },
   "outputs": [
    {
     "name": "stdout",
     "output_type": "stream",
     "text": [
      "Populating the interactive namespace from numpy and matplotlib\n"
     ]
    }
   ],
   "source": [
    "pylab inline"
   ]
  },
  {
   "cell_type": "code",
   "execution_count": 2,
   "metadata": {
    "collapsed": true
   },
   "outputs": [],
   "source": [
    "import numpy as np\n",
    "import scipy as sp\n",
    "import scipy.stats as stats\n",
    "import scipy.special as special\n",
    "import scipy.constants as constants\n",
    "import math\n",
    "import matplotlib.pyplot as plt"
   ]
  },
  {
   "cell_type": "markdown",
   "metadata": {},
   "source": [
    "**Notebook Introduction**"
   ]
  },
  {
   "cell_type": "markdown",
   "metadata": {},
   "source": [
    "Making an analytical model of evolution at high mutation rates is difficult without making simplifying assumptions. A well known model is Muller's Ratchet, which assumes a finite population size and is based on the stochastic loss of individuals with no or fewer mutations and assumes no back mutation. In an infinite population mutation can still lead to reduced fitness owing to mutational pressure. One nice model of this is Bull et al. (2007), which shows that, because of mutation-selection balance, the distribution of fitness effects (DFE) can be neglected and two key variables are the mutation rate and the base reproductive rate. When the reproductive rate is reduced below what is required for replacement by mutation load, the population is doomed. Unfortunately beneficial mutation is omitted in this model.\n",
    "\n",
    "As Bull et al. (2013) reflect, their empirical work (and that of others) indicates that fitness can increase even as mutation load increases (e.g., Springman et al, 2010). If compensatory epistasis (see below) occurs (as might be expected from the fitness landscape metaphor) then recovery of fitness is possible even, or especially, when mutation load is high. It is therefore not adequate to assume a fixed DFE because it is expected that the availability of beneficial mutations will increase at low fitness, and decrease at high fitness changing the expected equilibrium fitness. Recent work (Rice et al., 2015) has examined how the DFE itself can evolve to an equilibrium.\n",
    "\n",
    "In general, it seems there is a good motivation for a simulation here because other factors are involved as well as shifting DFEs, increasing the complexity of the situation. For example a population may be large enough that Muller's Ratchet has a long time constant at first, but this may become more important if fitness decreases and the population shrinks. Large viral populations may also be more likely to undergo recombination owing to high multiplicity of infection. And so on... \n",
    "\n",
    "This notebook explores some alternatives to DFE, in the context of work on epistasis, and then uses one of these to construct an individual-based simulation of evolution at high mutation rates. The focus is on phage studies owing to the author's research programme."
   ]
  },
  {
   "cell_type": "markdown",
   "metadata": {},
   "source": [
    "**The Vocabulary of Epistasis**"
   ]
  },
  {
   "cell_type": "markdown",
   "metadata": {},
   "source": [
    "The following types of epistasis exist:\n",
    "- positive epistasis (increases fitness above additive expectation),\n",
    "- negative epistasis (decreases fitness below additive expectation),\n",
    "- sign epistasis (changes expected beneficial effect into a deleterious change, or vice versa).\n",
    "\n",
    "Positive and negative epistasis can take these stronger forms:\n",
    "- compensatory epistasis (double mutants show higher fitness than either mutation alone),\n",
    "- decompensatory mutations (double mutants show lower fitness than either mutation alone),\n",
    "- diminishing-returns epistasis (each additional beneficial mutation has a reduced benefit).\n",
    "\n",
    "These terms are deprecated:\n",
    "- synergistic epistasis (increases magnitude of effect of combined beneficial (or deleterious) alleles),\n",
    "- antagonistic epistasis (decreases magnitude of effect of combined beneficial (or deleterious) alleles)."
   ]
  },
  {
   "cell_type": "markdown",
   "metadata": {},
   "source": [
    "**Phenotype-Fitness Mapping**"
   ]
  },
  {
   "cell_type": "markdown",
   "metadata": {},
   "source": [
    "Pearson et al. (2012) observe a pattern of diminishing-returns epistasis when they explore the effect of genetic background on a focal beneficial mutation (actually two such) across several phages (relatives of φX174). They model this data by assuming linear effects of mutations and fitting a phenotype-fitness map using a Gamma distribution. This could be interesting for building a simulation that respects the fitness landscape although the author's indicate that decompensatory epistasis is commonly observed during adaptation and may be more common in this context than in comparative work. Here is their distribution:"
   ]
  },
  {
   "cell_type": "code",
   "execution_count": 3,
   "metadata": {
    "collapsed": false
   },
   "outputs": [
    {
     "data": {
      "image/png": "[encoded data removed]",
      "text/plain": [
       "<matplotlib.figure.Figure at 0x107e73d10>"
      ]
     },
     "metadata": {},
     "output_type": "display_data"
    }
   ],
   "source": [
    "phen = stats.gamma(1.58,1,75.59)\n",
    "plt.hist(phen.rvs(10000), 50) # random variates therefrom\n",
    "plt.show() # not really required in a notebook - but useful in a script"
   ]
  },
  {
   "cell_type": "code",
   "execution_count": 4,
   "metadata": {
    "collapsed": false
   },
   "outputs": [
    {
     "data": {
      "text/plain": [
       "[<matplotlib.lines.Line2D at 0x107f20d90>]"
      ]
     },
     "execution_count": 4,
     "metadata": {},
     "output_type": "execute_result"
    },
    {
     "data": {
      "image/png": "[encoded data removed]",
      "text/plain": [
       "<matplotlib.figure.Figure at 0x10e31dfd0>"
      ]
     },
     "metadata": {},
     "output_type": "display_data"
    }
   ],
   "source": [
    "# Let's add a crude shape to it\n",
    "shape, scale = 1.58, 100\n",
    "phen = np.random.gamma(shape, scale, 1000)\n",
    "count, bins, ignored = plt.hist(phen, 50, normed=True)\n",
    "y = bins**(shape-1)*(np.exp(-bins/scale) /(special.gamma(shape)*scale**shape))\n",
    "plt.plot(bins, y, linewidth=2, color='magenta')"
   ]
  },
  {
   "cell_type": "markdown",
   "metadata": {},
   "source": [
    "I am having some difficulty here with the size variable, but this might be a viable way to side-step epistasis."
   ]
  },
  {
   "cell_type": "markdown",
   "metadata": {},
   "source": [
    "**Reflections on Model Requirements**"
   ]
  },
  {
   "cell_type": "markdown",
   "metadata": {},
   "source": [
    "It would be nice to use the above phenotype-fitness map because it is fitted from real data. The key problem here is that we must allow beneficial mutations, but we must not permit arbitrarily high fitnesses to emerge under selection.\n",
    "\n",
    "One way to constrain beneficial mutations at high fitness and facilitate them at low fitness is to add an epistasis modifier function and keep track of mutations, but this requires keeping track of the effect of sequential deleterious mutations.\n",
    "\n",
    "The following two papers are worth consulting for the DFE of mutations in phiX174, but they do not provide a full state description:\n",
    "- Domingo-Calap et al. (2009): The Fitness Effects of Random Mutations in Single-Stranded DNA and RNA Bacteriophages\n",
    "- Vale et al. (2012): The Distribution of Mutational Fitness Effects of Phage φX174 on Different Hosts."
   ]
  },
  {
   "cell_type": "markdown",
   "metadata": {},
   "source": [
    "**A solution: Wylie's Physical Landscape**"
   ]
  },
  {
   "cell_type": "markdown",
   "metadata": {},
   "source": [
    "Now I have read Wylie and Shakhnovich (2011, 2012) and they have a really nice model which provides a way to side-step epistasis altogether. The first paper describes a biophysical model of protein free energy (ΔG) and its relationship to fitness. This nicely recapitulates the DFE of non-synonymous mutations, except for lethals. The second paper builds on a simulation that uses this model and a Gaussian of changes in free energy (ΔΔG) - that is we have here a phenotype-fitness map that allows us to render a fitness effect of a new mutation directly from the current fitness.\n",
    "\n",
    "Their model is tune-able with respect to reproductive rate (R, set to 2) and number of genes (set to 20). Rather than being a Wright-Fisher model, it runs a Moran-like process in which one individual is picked at a time for replication with a probability proportional to its fitness. A generation is ~N picks and N is the carrying capacity rather than the census population size (n). When n exceeds N individuals are culled with a probability proportional to their fitness. Soft selection therefore occurs in this model at n>=N, but selection is hard at n<N.\n",
    "\n",
    "I need to consider whether R>2 requires switching to a Wright-Fisher approach. To reduce computational burden it may be necessary to assign a vector of offspring numbers, cull-filter it and then run the reproduce method (see implementation details below)."
   ]
  },
  {
   "cell_type": "markdown",
   "metadata": {},
   "source": [
    "**The Boltzmann Constant**"
   ]
  },
  {
   "cell_type": "code",
   "execution_count": 5,
   "metadata": {
    "collapsed": false
   },
   "outputs": [
    {
     "data": {
      "text/plain": [
       "0.001987204118"
      ]
     },
     "execution_count": 5,
     "metadata": {},
     "output_type": "execute_result"
    }
   ],
   "source": [
    "# Boltzmann constant\n",
    "constants.k # units: J/K - not what I want!\n",
    "# Boltzmann constant\n",
    "0.001987204118 # units: kcal/(mol⋅K) - thank you Wikipedia!"
   ]
  },
  {
   "cell_type": "markdown",
   "metadata": {},
   "source": [
    "**Working with ΔΔG (the phenotype Gaussian)**"
   ]
  },
  {
   "cell_type": "code",
   "execution_count": 6,
   "metadata": {
    "collapsed": false
   },
   "outputs": [
    {
     "data": {
      "text/plain": [
       "[<matplotlib.lines.Line2D at 0x10e8a3350>]"
      ]
     },
     "execution_count": 6,
     "metadata": {},
     "output_type": "execute_result"
    },
    {
     "data": {
      "image/png": "[encoded data removed]",
      "text/plain": [
       "<matplotlib.figure.Figure at 0x10e81fd90>"
      ]
     },
     "metadata": {},
     "output_type": "display_data"
    }
   ],
   "source": [
    "# let's plot deltadeltaG\n",
    "dd_mean, dd_std = 1, 1.7\n",
    "ddG = stats.norm(dd_mean, dd_std)\n",
    "x = np.linspace(ddG.ppf(0.01),ddG.ppf(0.99), 100)\n",
    "plt.plot(x, ddG.pdf(x), 'k-', lw=2)"
   ]
  },
  {
   "cell_type": "code",
   "execution_count": 7,
   "metadata": {
    "collapsed": false
   },
   "outputs": [
    {
     "data": {
      "text/plain": [
       "[<matplotlib.lines.Line2D at 0x10641bc10>]"
      ]
     },
     "execution_count": 7,
     "metadata": {},
     "output_type": "execute_result"
    },
    {
     "data": {
      "image/png": "[encoded data removed]",
      "text/plain": [
       "<matplotlib.figure.Figure at 0x10e2a4f50>"
      ]
     },
     "metadata": {},
     "output_type": "display_data"
    }
   ],
   "source": [
    "# Now let's pick some random variates from this distribution\n",
    "rv_ddG = stats.norm.rvs(loc=dd_mean, scale=dd_std, size=10000)\n",
    "# plot histogram and pdf over it\n",
    "count, bins, ignored = plt.hist(rv_ddG, 100, normed=True)\n",
    "y = ddG.pdf(bins)\n",
    "plt.plot(bins, y, linewidth=2, color='magenta')"
   ]
  },
  {
   "cell_type": "markdown",
   "metadata": {},
   "source": [
    "**Working with ΔG and ΔΔG**"
   ]
  },
  {
   "cell_type": "markdown",
   "metadata": {},
   "source": [
    "For this section consult Wylie and Shakhnovich (2011). Equation 1 in their paper gives a function describing the fraction of time proteins spent in a correctly folded state. Some constant multiplied by the product of this fraction for each gene gives the fitness (equation 2). The fitness effect is approximated in equation 3. The code below replicates figure 1C (minus the kinks caused by lethality) - each line shows a different ΔΔG value."
   ]
  },
  {
   "cell_type": "code",
   "execution_count": 8,
   "metadata": {
    "collapsed": false
   },
   "outputs": [
    {
     "data": {
      "text/plain": [
       "(9.9999999999999995e-08, 1000.0)"
      ]
     },
     "execution_count": 8,
     "metadata": {},
     "output_type": "execute_result"
    },
    {
     "data": {
      "image/png": "[encoded data removed]",
      "text/plain": [
       "<matplotlib.figure.Figure at 0x10eb34c90>"
      ]
     },
     "metadata": {},
     "output_type": "display_data"
    }
   ],
   "source": [
    "# setup for precision and constant terms\n",
    "from decimal import getcontext, Decimal\n",
    "getcontext().prec = 50 # I think this may be needed for powers and crazily small numbers\n",
    "#getcontext().Emin = -1e22\n",
    "#getcontext().Emax = 1e22\n",
    "kt = Decimal(0.001987204118 * (273.15+37))\n",
    "\n",
    "# some values for graphing\n",
    "dG_values = [ Decimal(i) for i in np.arange(-10,0.5,0.5) ] # values here of -10, -9.5, .., 0.5, 0 for deltaG\n",
    "ddG_values = [ Decimal(i) for i in range(1,4) ] # some values of deltadeltaG for plotting different lines\n",
    "\n",
    "# selection coefficients - will populate using eq. 3\n",
    "s_coeff = []\n",
    "for i, ddG in enumerate(ddG_values):\n",
    "    s_coeff.append( [ -float( Decimal(dG/kt).exp() * ( 1 - Decimal(ddG/kt).exp() ) ) for dG in dG_values ] )\n",
    "\n",
    "# plotting\n",
    "plt.yscale('log')\n",
    "plt.plot(dG_values, s_coeff[0], color='black', lw=2, marker=\"o\") #ddG = 1\n",
    "plt.plot(dG_values, s_coeff[1], color='red', lw=2, marker=\"o\") #ddG = 2\n",
    "plt.plot(dG_values, s_coeff[2], color='green', lw=2, marker=\"o\") #ddG = 3\n",
    "plt.xlabel(\"deltaG (free energy before mutation, kcal/mol)\")\n",
    "plt.ylabel(\"selection coefficient (-s)\")\n",
    "ylim()"
   ]
  },
  {
   "cell_type": "markdown",
   "metadata": {},
   "source": [
    "**Recapitulating the DFE**"
   ]
  },
  {
   "cell_type": "markdown",
   "metadata": {},
   "source": [
    "In this section we use the random variates from the ΔΔG Gaussian we created above, as well as the fitness function to recover the distribution of fitness effects at different values of ΔG. This is a little bit like figure 3 in Wylie and Shakhnovich (2011) although it is actually closest to figure S1 in supplementary."
   ]
  },
  {
   "cell_type": "code",
   "execution_count": 11,
   "metadata": {
    "collapsed": false
   },
   "outputs": [
    {
     "data": {
      "text/plain": [
       "<matplotlib.text.Text at 0x10f93dfd0>"
      ]
     },
     "execution_count": 11,
     "metadata": {},
     "output_type": "execute_result"
    },
    {
     "data": {
      "image/png": "[encoded data removed]",
      "text/plain": [
       "<matplotlib.figure.Figure at 0x10ee90c10>"
      ]
     },
     "metadata": {},
     "output_type": "display_data"
    }
   ],
   "source": [
    "# setup for variables\n",
    "# rem: rv_ddG is the random variates from the deltadeltaG distribution created above\n",
    "dG_values = [ Decimal(dG) for dG in range(-7,0,2) ] # so these free energy values are from fig. S1\n",
    "\n",
    "# population selection coefficients in 2D-array using eq. S2\n",
    "s_coeff=[]\n",
    "for dG in dG_values:\n",
    "    s_coeff.append( [ float( Decimal(dG/kt).exp() * ( 1 - (Decimal(ddG)/kt).exp() ) ) for ddG in rv_ddG ] )\n",
    "    \n",
    "# plotting\n",
    "count, bins, ignored = plt.hist(s_coeff[0], 20, range=(-1,0.3), normed=True, alpha=0.4, color=\"darkblue\")\n",
    "plt.hist(s_coeff[0], 40, range=(-1,0.3), normed=True, alpha=0.4, color=\"black\") # dG = -7\n",
    "plt.hist(s_coeff[1], 40, range=(-1,0.3), normed=True, alpha=0.4, color=\"green\") # dG = -5\n",
    "plt.hist(s_coeff[2], 40, range=(-1,0.3), normed=True, alpha=0.4, color=\"yellow\") # dG = -3\n",
    "plt.hist(s_coeff[3], 40, range=(-1,0.3), normed=True, alpha=0.4, color=\"red\") # dG = -1\n",
    "plt.xlabel(\"selection coefficient\")\n",
    "plt.ylabel(\"density\")"
   ]
  },
  {
   "cell_type": "markdown",
   "metadata": {},
   "source": [
    "Note that we are using variates here rather than fitting a nice smooth curve."
   ]
  },
  {
   "cell_type": "markdown",
   "metadata": {},
   "source": [
    "**Individual-based Simulation**"
   ]
  },
  {
   "cell_type": "markdown",
   "metadata": {},
   "source": [
    "In this section I build a simulation based on the description in Wylie and Shakhnovich (2012)."
   ]
  },
  {
   "cell_type": "code",
   "execution_count": 26,
   "metadata": {
    "collapsed": false
   },
   "outputs": [],
   "source": [
    "# constants\n",
    "kt = float(0.001987204118 * (273.15+37))\n",
    "dd_mean, dd_std = 1, 1.7\n",
    "\n",
    "# variables\n",
    "Ud = 2.4 # non-synonymous mutations per genome per replication\n",
    "L = 0.1 # proportion of lethal mutations\n",
    "G = 10 # number of genes\n",
    "N = 1000 # carrying capacity\n",
    "R = 2 # effective burst size\n",
    "simlen = 200 # number of generations\n",
    "F = -5 # initial free energy of all proteins"
   ]
  },
  {
   "cell_type": "code",
   "execution_count": 27,
   "metadata": {
    "collapsed": true
   },
   "outputs": [],
   "source": [
    "# viral class\n",
    "class Virus:\n",
    "    def __init__(self, genes, deltag):\n",
    "        self.genes = genes # stores mutation counts\n",
    "        self.deltag = deltag # records current free energy\n",
    "        self.fitness = self._fitness() # calculates fitness from free energy\n",
    "        \n",
    "    def _mutate(self):\n",
    "        genes_int, deltag_int = self.genes, self.deltag # lists for mutations and free energies\n",
    "        new_mutations = poisson(Ud) # no. of new mutations\n",
    "        if np.random.rand(1) > np.power((1-L), new_mutations): # fraction L of mutations are lethal\n",
    "            return None, None # so don't bother calculating, just return nothing\n",
    "        else:\n",
    "            ddG_values = stats.norm.rvs(loc=dd_mean, scale=dd_std, size=new_mutations) # deltadeltaG from Gaussian\n",
    "            mutgene_coord = np.random.randint(0, G, new_mutations) # picking gene destined to have these mutations\n",
    "            for index, gene_id in enumerate(mutgene_coord):\n",
    "                genes_int[gene_id] += 1\n",
    "                deltag_int[gene_id] = self.deltag[gene_id] + ddG_values[index]\n",
    "                if deltag_int[gene_id] > 0: #in this case the fitness is zero\n",
    "                    return None, None # so just return nothing and break out of function\n",
    "            return genes_int, deltag_int\n",
    "\n",
    "    def _fitness(self): # calculate fitness from product function\n",
    "        return np.prod([ 1 / (1 + np.exp(dg/kt)) for dg in np.nditer(self.deltag) ])\n",
    "    \n",
    "    def reproduce(self):\n",
    "        sprog = Virus(np.copy(self.genes), np.copy(self.deltag))\n",
    "        sprog.genes, sprog.deltag = sprog._mutate()\n",
    "        try:\n",
    "            if sprog.genes.any(): # if lethal mutate() will have returned a None value\n",
    "                sprog.fitness = sprog._fitness()\n",
    "                return sprog\n",
    "        except:\n",
    "            return None # if Nones were returned, kill the sprog\n",
    "        \n",
    "    def __repr__(self): # for diagnostic printingS\n",
    "        return \"M\"+str(np.sum(self.genes))+\" F\"+str(self.fitness)"
   ]
  },
  {
   "cell_type": "code",
   "execution_count": 28,
   "metadata": {
    "collapsed": false
   },
   "outputs": [
    {
     "name": "stdout",
     "output_type": "stream",
     "text": [
      "M0 F0.997007308817\n",
      "M0 F0.997007308817\n",
      "M2 F0.981340335801 M3 F0.986156741335\n"
     ]
    }
   ],
   "source": [
    "# let's test this class with some instances\n",
    "bob = Virus(np.zeros(10, dtype=int), np.array([F]*10, dtype=float))\n",
    "print bob\n",
    "bill, ben = bob.reproduce(), bob.reproduce()\n",
    "print bob # has he changed?\n",
    "print bill, ben # any deaths?"
   ]
  },
  {
   "cell_type": "code",
   "execution_count": 29,
   "metadata": {
    "collapsed": false
   },
   "outputs": [],
   "source": [
    "# initialise population\n",
    "def initialise():\n",
    "    population = [ Virus(np.zeros(G, dtype=int), np.array([F]*G, dtype=float)) for _ in range(N) ]\n",
    "    return population\n",
    "\n",
    "# function to help with multinomial picks\n",
    "def get_weights(population):\n",
    "    weights = [v.fitness for v in population]\n",
    "    return weights/sum(weights)\n",
    "\n",
    "# reporting function\n",
    "def report_update(psiz, fit, free, mut):\n",
    "    psiz.append( len(population) )\n",
    "    fit.append( np.median([v.fitness for v in population]) )\n",
    "    free.append( np.median([np.mean(v.deltag) for v in population]) )\n",
    "    mut.append( np.median([sum(v.genes) for v in population]) )\n",
    "    \n",
    "# main simulation\n",
    "population = initialise()\n",
    "popsize = N\n",
    "report_psiz, report_fit, report_free, report_mut = [], [], [], []\n",
    "\n",
    "while simlen > 0:\n",
    "    simlen -= 1\n",
    "    for n in range(N):\n",
    "        if popsize > N:\n",
    "            population = list( np.random.choice(population, N, p = get_weights(population), replace=False) )\n",
    "            popsize = N # why calculate when you can set?\n",
    "        elif popsize == 0:\n",
    "            simlen = 0 # they're all dead so let's end early (this is why I chose while loop)\n",
    "            \n",
    "        if popsize != 0: # pull an individual out of the population\n",
    "            parent_index = np.random.choice(range(popsize), p=get_weights(population))\n",
    "            parent = population.pop(parent_index)\n",
    "\n",
    "            for r in range(R): # not sure whether to do this Moran process for R>2\n",
    "                child = parent.reproduce()\n",
    "                if child: # might be stillborn\n",
    "                    population.append(child)\n",
    "                    \n",
    "        popsize = len(population)\n",
    "                    \n",
    "    if popsize > 0:\n",
    "        report_update(report_psiz, report_fit, report_free, report_mut)"
   ]
  },
  {
   "cell_type": "code",
   "execution_count": 30,
   "metadata": {
    "collapsed": false
   },
   "outputs": [
    {
     "data": {
      "text/plain": [
       "<matplotlib.text.Text at 0x10f839d50>"
      ]
     },
     "execution_count": 30,
     "metadata": {},
     "output_type": "execute_result"
    },
    {
     "data": {
      "image/png": "[encoded data removed]",
      "text/plain": [
       "<matplotlib.figure.Figure at 0x10f4e26d0>"
      ]
     },
     "metadata": {},
     "output_type": "display_data"
    }
   ],
   "source": [
    "# Now let's graph the changes\n",
    "f, axarr = plt.subplots(2, 2, sharex=True)\n",
    "axarr[0,0].plot(report_fit)\n",
    "axarr[0,0].set_title(\"Fitness\")\n",
    "axarr[0,1].plot(report_psiz)\n",
    "axarr[0,1].set_title(\"Population Size\")\n",
    "axarr[0,1].set_ylim([min(report_psiz)-10,max(report_psiz)+10])\n",
    "axarr[1,0].plot(report_free)\n",
    "axarr[1,0].set_title(\"Free Energy\")\n",
    "axarr[1,1].plot(report_mut)\n",
    "axarr[1,1].set_title(\"# Mutations\")"
   ]
  },
  {
   "cell_type": "markdown",
   "metadata": {},
   "source": [
    "**Questions**"
   ]
  },
  {
   "cell_type": "markdown",
   "metadata": {},
   "source": [
    "- Do the proportion of lethal mutations (L) and the maximum reproductive capacity (R) interact linearly to determine the average time till extinction? This may be relevant in a chemostat in which offspring are washed away.\n",
    "- Does Muller's Ratchet still occur in this system and does recombination (or shuffling between genes) help?\n",
    "- Does recombination behave differently at different population sizes?\n",
    "- Is there some interesting effect related to soft versus hard selection in this system? For example truncation selection against mildly deleterious mutants may be more efficient at n=N for this reason and not just because of the population size."
   ]
  },
  {
   "cell_type": "markdown",
   "metadata": {},
   "source": [
    "**References**"
   ]
  },
  {
   "cell_type": "markdown",
   "metadata": {},
   "source": [
    "Bull, J. J., R. Sanjuán, and C. O. Wilke. 2007. Theory of lethal mutagenesis for viruses. J. Virol. 81:2930–2939.\n",
    "\n",
    "Bull, J. J., P. Joyce, E. Gladstone, and I. J. Molineux. 2013. Empirical Complexities in the Genetic Foundations of Lethal Mutagenesis. Genetics 195:541–552.\n",
    "\n",
    "Domingo-Calap, P., J. M. Cuevas, and R. Sanjuán. 2009. The Fitness Effects of Random Mutations in Single-Stranded DNA and RNA Bacteriophages. PLoS Genet 5:e1000742.\n",
    "\n",
    "Pearson, V. M., C. R. Miller, and D. R. Rokyta. 2012. The consistency of beneficial fitness effects of mutations across diverse genetic backgrounds. PLoS One 7:e43864.\n",
    "\n",
    "Rice, D. P., B. H. Good, and M. M. Desai. 2015. The evolutionarily stable distribution of fitness effects. Genetics 200:321–329.\n",
    "\n",
    "Springman, R., T. Keller, I. J. Molineux, and J. J. Bull. 2010. Evolution at a high imposed mutation rate: Adaptation obscures the load in phage T7. Genetics 184:221–232.\n",
    "\n",
    "Vale, P. F., M. Choisy, R. Froissart, R. Sanjuán, and S. Gandon. 2012. The Distribution of Mutational Fitness Effects of Phage ΦX174 on Different Hosts. Evolution (N. Y). 66:3495–3507.\n",
    "\n",
    "Wylie, C. S., and E. I. Shakhnovich. 2011. A biophysical protein folding model accounts for most mutational fitness effects in viruses. Proc. Natl. Acad. Sci. U. S. A. 108:9916–21.\n",
    "\n",
    "Wylie, C. S., and E. I. Shakhnovich. 2012. Mutation Induced Extinction in Finite Populations: Lethal Mutagenesis and Lethal Isolation. PLoS Comput Biol 8:e1002609."
   ]
  }
 ],
 "metadata": {
  "kernelspec": {
   "display_name": "Python 2",
   "language": "python",
   "name": "python2"
  },
  "language_info": {
   "codemirror_mode": {
    "name": "ipython",
    "version": 2
   },
   "file_extension": ".py",
   "mimetype": "text/x-python",
   "name": "python",
   "nbconvert_exporter": "python",
   "pygments_lexer": "ipython2",
   "version": "2.7.11"
  }
 },
 "nbformat": 4,
 "nbformat_minor": 0
}
